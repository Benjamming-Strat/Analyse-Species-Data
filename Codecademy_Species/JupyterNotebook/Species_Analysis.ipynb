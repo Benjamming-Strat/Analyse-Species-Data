{
 "cells": [
  {
   "cell_type": "code",
   "execution_count": 66,
   "metadata": {},
   "outputs": [
    {
     "ename": "ModuleNotFoundError",
     "evalue": "No module named 'ipython'",
     "output_type": "error",
     "traceback": [
      "\u001b[1;31m---------------------------------------------------------------------------\u001b[0m",
      "\u001b[1;31mModuleNotFoundError\u001b[0m                       Traceback (most recent call last)",
      "\u001b[1;32m<ipython-input-66-bd32dff72dd8>\u001b[0m in \u001b[0;36m<module>\u001b[1;34m\u001b[0m\n\u001b[0;32m      1\u001b[0m \u001b[1;32mimport\u001b[0m \u001b[0mpandas\u001b[0m \u001b[1;32mas\u001b[0m \u001b[0mpd\u001b[0m\u001b[1;33m\u001b[0m\u001b[1;33m\u001b[0m\u001b[0m\n\u001b[0;32m      2\u001b[0m \u001b[1;32mimport\u001b[0m \u001b[0mmatplotlib\u001b[0m\u001b[1;33m.\u001b[0m\u001b[0mpyplot\u001b[0m \u001b[1;32mas\u001b[0m \u001b[0mplt\u001b[0m\u001b[1;33m\u001b[0m\u001b[1;33m\u001b[0m\u001b[0m\n\u001b[1;32m----> 3\u001b[1;33m \u001b[1;32mfrom\u001b[0m \u001b[0mipython\u001b[0m\u001b[1;33m.\u001b[0m\u001b[0mcore\u001b[0m\u001b[1;33m.\u001b[0m\u001b[0mdisplay\u001b[0m \u001b[1;32mimport\u001b[0m \u001b[0mhtml\u001b[0m\u001b[1;33m\u001b[0m\u001b[1;33m\u001b[0m\u001b[0m\n\u001b[0m\u001b[0;32m      4\u001b[0m \u001b[1;33m\u001b[0m\u001b[0m\n\u001b[0;32m      5\u001b[0m \u001b[0mpd\u001b[0m\u001b[1;33m.\u001b[0m\u001b[0mset_option\u001b[0m\u001b[1;33m(\u001b[0m\u001b[1;34m\"display.max_columns\"\u001b[0m\u001b[1;33m,\u001b[0m\u001b[1;36m10\u001b[0m\u001b[1;33m)\u001b[0m\u001b[1;33m\u001b[0m\u001b[1;33m\u001b[0m\u001b[0m\n",
      "\u001b[1;31mModuleNotFoundError\u001b[0m: No module named 'ipython'"
     ]
    }
   ],
   "source": [
    "import pandas as pd\n",
    "import matplotlib.pyplot as plt\n",
    "from ipython.core.display import html\n",
    "\n",
    "pd.set_option(\"display.max_columns\",10)\n",
    "\n",
    "\n",
    "species = pd.read_csv(\"A:\\Documents\\Programmierung\\Github\\Codecademy\\Codecademy_Species\\JupyterNotebook\\Species_Ressources\\species_info.csv\")\n"
   ]
  },
  {
   "cell_type": "code",
   "execution_count": 6,
   "metadata": {
    "scrolled": true
   },
   "outputs": [
    {
     "name": "stdout",
     "output_type": "stream",
     "text": [
      "  category                scientific_name  \\\n",
      "0   Mammal  Clethrionomys gapperi gapperi   \n",
      "1   Mammal                      Bos bison   \n",
      "2   Mammal                     Bos taurus   \n",
      "3   Mammal                     Ovis aries   \n",
      "4   Mammal                 Cervus elaphus   \n",
      "\n",
      "                                        common_names conservation_status  \n",
      "0                           Gapper's Red-Backed Vole                 NaN  \n",
      "1                              American Bison, Bison                 NaN  \n",
      "2  Aurochs, Aurochs, Domestic Cattle (Feral), Dom...                 NaN  \n",
      "3  Domestic Sheep, Mouflon, Red Sheep, Sheep (Feral)                 NaN  \n",
      "4                                      Wapiti Or Elk                 NaN  \n",
      "<class 'pandas.core.frame.DataFrame'>\n",
      "RangeIndex: 5824 entries, 0 to 5823\n",
      "Data columns (total 4 columns):\n",
      " #   Column               Non-Null Count  Dtype \n",
      "---  ------               --------------  ----- \n",
      " 0   category             5824 non-null   object\n",
      " 1   scientific_name      5824 non-null   object\n",
      " 2   common_names         5824 non-null   object\n",
      " 3   conservation_status  191 non-null    object\n",
      "dtypes: object(4)\n",
      "memory usage: 182.1+ KB\n",
      "None\n"
     ]
    }
   ],
   "source": [
    "#Investigating DataFrame\n",
    "print(species.head())\n",
    "print(species.info())"
   ]
  },
  {
   "cell_type": "code",
   "execution_count": 9,
   "metadata": {},
   "outputs": [
    {
     "name": "stdout",
     "output_type": "stream",
     "text": [
      "['Mammal' 'Bird' 'Reptile' 'Amphibian' 'Fish' 'Vascular Plant'\n",
      " 'Nonvascular Plant']\n"
     ]
    }
   ],
   "source": [
    "#how many unique species\n",
    "different_species = species.category.unique()\n",
    "print(different_species)"
   ]
  },
  {
   "cell_type": "code",
   "execution_count": 10,
   "metadata": {},
   "outputs": [
    {
     "name": "stdout",
     "output_type": "stream",
     "text": [
      "[nan 'Species of Concern' 'Endangered' 'Threatened' 'In Recovery']\n"
     ]
    }
   ],
   "source": [
    "print(species.conservation_status.unique())"
   ]
  },
  {
   "cell_type": "code",
   "execution_count": 15,
   "metadata": {},
   "outputs": [
    {
     "name": "stdout",
     "output_type": "stream",
     "text": [
      "conservation_status\n",
      "Endangered             16\n",
      "In Recovery             4\n",
      "Species of Concern    161\n",
      "Threatened             10\n",
      "Name: scientific_name, dtype: int64\n"
     ]
    }
   ],
   "source": [
    "print(species.groupby(\"conservation_status\").scientific_name.count())"
   ]
  },
  {
   "cell_type": "code",
   "execution_count": 17,
   "metadata": {},
   "outputs": [
    {
     "name": "stdout",
     "output_type": "stream",
     "text": [
      "            category                scientific_name  \\\n",
      "0             Mammal  Clethrionomys gapperi gapperi   \n",
      "1             Mammal                      Bos bison   \n",
      "2             Mammal                     Bos taurus   \n",
      "3             Mammal                     Ovis aries   \n",
      "4             Mammal                 Cervus elaphus   \n",
      "...              ...                            ...   \n",
      "5819  Vascular Plant               Solanum parishii   \n",
      "5820  Vascular Plant                  Solanum xanti   \n",
      "5821  Vascular Plant         Parthenocissus vitacea   \n",
      "5822  Vascular Plant              Vitis californica   \n",
      "5823  Vascular Plant            Tribulus terrestris   \n",
      "\n",
      "                                           common_names conservation_status  \n",
      "0                              Gapper's Red-Backed Vole     No Intervention  \n",
      "1                                 American Bison, Bison     No Intervention  \n",
      "2     Aurochs, Aurochs, Domestic Cattle (Feral), Dom...     No Intervention  \n",
      "3     Domestic Sheep, Mouflon, Red Sheep, Sheep (Feral)     No Intervention  \n",
      "4                                         Wapiti Or Elk     No Intervention  \n",
      "...                                                 ...                 ...  \n",
      "5819                                Parish's Nightshade     No Intervention  \n",
      "5820            Chaparral Nightshade, Purple Nightshade     No Intervention  \n",
      "5821        Thicket Creeper, Virginia Creeper, Woodbine     No Intervention  \n",
      "5822            California Grape, California Wild Grape     No Intervention  \n",
      "5823  Bullhead, Caltrop, Goathead, Mexican Sandbur, ...     No Intervention  \n",
      "\n",
      "[5824 rows x 4 columns]\n"
     ]
    }
   ],
   "source": [
    "#Fill NaN\n",
    "\n",
    "species.fillna(\"No Intervention\", inplace=True)\n",
    "print(species)"
   ]
  },
  {
   "cell_type": "code",
   "execution_count": 18,
   "metadata": {},
   "outputs": [
    {
     "name": "stdout",
     "output_type": "stream",
     "text": [
      "conservation_status\n",
      "Endangered              16\n",
      "In Recovery              4\n",
      "No Intervention       5633\n",
      "Species of Concern     161\n",
      "Threatened              10\n",
      "Name: scientific_name, dtype: int64\n"
     ]
    }
   ],
   "source": [
    "print(species.groupby(\"conservation_status\").scientific_name.count())"
   ]
  },
  {
   "cell_type": "code",
   "execution_count": 24,
   "metadata": {},
   "outputs": [],
   "source": [
    "#Sort columns by the amount of each species in the categories\n",
    "sorted_count_species = species.groupby(\"conservation_status\")[\"scientific_name\"].nunique().reset_index().sort_values(by=\"scientific_name\")"
   ]
  },
  {
   "cell_type": "code",
   "execution_count": 25,
   "metadata": {},
   "outputs": [
    {
     "name": "stdout",
     "output_type": "stream",
     "text": [
      "  conservation_status  scientific_name\n",
      "1         In Recovery                4\n",
      "4          Threatened               10\n",
      "0          Endangered               15\n",
      "3  Species of Concern              151\n",
      "2     No Intervention             5363\n"
     ]
    }
   ],
   "source": [
    "print(sorted_count_species)"
   ]
  },
  {
   "cell_type": "code",
   "execution_count": 43,
   "metadata": {},
   "outputs": [
    {
     "data": {
      "image/png": "[encoded data removed]",
      "text/plain": [
       "<Figure size 720x288 with 1 Axes>"
      ]
     },
     "metadata": {
      "needs_background": "light"
     },
     "output_type": "display_data"
    }
   ],
   "source": [
    "#creating a bar chart for the sorted_count_species\n",
    "\n",
    "\n",
    "plt.figure(figsize=(10,4))\n",
    "ax = plt.subplot()\n",
    "\n",
    "plt.bar(range(len(sorted_count_species)), sorted_count_species[\"scientific_name\"])\n",
    "ax.set_xticks(range(len(sorted_count_species)))\n",
    "ax.set_xticklabels(sorted_count_species[\"conservation_status\"])\n",
    "\n",
    "plt.xlabel(\"Conservation Status\")\n",
    "plt.ylabel(\"Number of Species\")\n",
    "plt.title(\"Conservation Status by Species\")\n",
    "plt.show()\n",
    "\n"
   ]
  },
  {
   "cell_type": "code",
   "execution_count": 56,
   "metadata": {},
   "outputs": [
    {
     "name": "stdout",
     "output_type": "stream",
     "text": [
      "            category                scientific_name  \\\n",
      "0             Mammal  Clethrionomys gapperi gapperi   \n",
      "1             Mammal                      Bos bison   \n",
      "2             Mammal                     Bos taurus   \n",
      "3             Mammal                     Ovis aries   \n",
      "4             Mammal                 Cervus elaphus   \n",
      "...              ...                            ...   \n",
      "5819  Vascular Plant               Solanum parishii   \n",
      "5820  Vascular Plant                  Solanum xanti   \n",
      "5821  Vascular Plant         Parthenocissus vitacea   \n",
      "5822  Vascular Plant              Vitis californica   \n",
      "5823  Vascular Plant            Tribulus terrestris   \n",
      "\n",
      "                                           common_names conservation_status  \\\n",
      "0                              Gapper's Red-Backed Vole     No Intervention   \n",
      "1                                 American Bison, Bison     No Intervention   \n",
      "2     Aurochs, Aurochs, Domestic Cattle (Feral), Dom...     No Intervention   \n",
      "3     Domestic Sheep, Mouflon, Red Sheep, Sheep (Feral)     No Intervention   \n",
      "4                                         Wapiti Or Elk     No Intervention   \n",
      "...                                                 ...                 ...   \n",
      "5819                                Parish's Nightshade     No Intervention   \n",
      "5820            Chaparral Nightshade, Purple Nightshade     No Intervention   \n",
      "5821        Thicket Creeper, Virginia Creeper, Woodbine     No Intervention   \n",
      "5822            California Grape, California Wild Grape     No Intervention   \n",
      "5823  Bullhead, Caltrop, Goathead, Mexican Sandbur, ...     No Intervention   \n",
      "\n",
      "      is protected  is_protected  \n",
      "0            False         False  \n",
      "1            False         False  \n",
      "2            False         False  \n",
      "3            False         False  \n",
      "4            False         False  \n",
      "...            ...           ...  \n",
      "5819         False         False  \n",
      "5820         False         False  \n",
      "5821         False         False  \n",
      "5822         False         False  \n",
      "5823         False         False  \n",
      "\n",
      "[5824 rows x 6 columns]\n"
     ]
    }
   ],
   "source": [
    "#Column added for species which are more endangered\n",
    "\n",
    "species[\"is_protected\"] = species.apply(lambda x: True if x[\"conservation_status\"]!=\"No Intervention\" else False, axis=1)\n",
    "print(species)"
   ]
  },
  {
   "cell_type": "code",
   "execution_count": 79,
   "metadata": {},
   "outputs": [],
   "source": [
    "#grouping by category and new column is_protected, sorted by the amount of species\n",
    "\n",
    "category_counts = species.groupby([\"category\",\"is_protected\"]).scientific_name.nunique().reset_index()"
   ]
  },
  {
   "cell_type": "code",
   "execution_count": 96,
   "metadata": {},
   "outputs": [
    {
     "name": "stdout",
     "output_type": "stream",
     "text": [
      "    category  is_protected  scientific_name\n",
      "0  Amphibian         False               72\n",
      "1  Amphibian          True                7\n",
      "2       Bird         False              413\n",
      "3       Bird          True               75\n",
      "4       Fish         False              115\n"
     ]
    }
   ],
   "source": [
    "print(category_counts.head())"
   ]
  },
  {
   "cell_type": "code",
   "execution_count": 97,
   "metadata": {},
   "outputs": [],
   "source": [
    "#creating pivot table for a better overview\n",
    "\n",
    "category_pivot = category_counts.pivot(columns = \"is_protected\", \n",
    "                                       index = \"category\",\n",
    "                                       values = \"scientific_name\" )\\\n",
    "                            .reset_index()"
   ]
  },
  {
   "cell_type": "code",
   "execution_count": 82,
   "metadata": {},
   "outputs": [
    {
     "name": "stdout",
     "output_type": "stream",
     "text": [
      "is_protected           category  False  True\n",
      "0                     Amphibian     72     7\n",
      "1                          Bird    413    75\n",
      "2                          Fish    115    11\n",
      "3                        Mammal    146    30\n",
      "4             Nonvascular Plant    328     5\n",
      "5                       Reptile     73     5\n",
      "6                Vascular Plant   4216    46\n"
     ]
    }
   ],
   "source": [
    "print (category_pivot)"
   ]
  },
  {
   "cell_type": "code",
   "execution_count": 101,
   "metadata": {},
   "outputs": [],
   "source": [
    "#Renaming Columns False and True for a better understanding\n",
    "\n",
    "category_pivot.columns = [\"category\",\"not_protected\",\"protected\"]\n"
   ]
  },
  {
   "cell_type": "code",
   "execution_count": 102,
   "metadata": {},
   "outputs": [
    {
     "name": "stdout",
     "output_type": "stream",
     "text": [
      "            category  not_protected  protected\n",
      "0          Amphibian             72          7\n",
      "1               Bird            413         75\n",
      "2               Fish            115         11\n",
      "3             Mammal            146         30\n",
      "4  Nonvascular Plant            328          5\n",
      "5            Reptile             73          5\n",
      "6     Vascular Plant           4216         46\n"
     ]
    }
   ],
   "source": [
    "print(category_pivot)"
   ]
  },
  {
   "cell_type": "code",
   "execution_count": 138,
   "metadata": {},
   "outputs": [
    {
     "name": "stdout",
     "output_type": "stream",
     "text": [
      "            category  not_protected  protected  percent_protected\n",
      "0          Amphibian             72          7           0.088608\n",
      "1               Bird            413         75           0.153689\n",
      "2               Fish            115         11           0.087302\n",
      "3             Mammal            146         30           0.170455\n",
      "4  Nonvascular Plant            328          5           0.015015\n",
      "5            Reptile             73          5           0.064103\n",
      "6     Vascular Plant           4216         46           0.010793\n"
     ]
    }
   ],
   "source": [
    "#new column in pivottable for percentage view\n",
    "\n",
    "category_pivot[\"percentage_protected\"] = category_pivot.apply(lambda x: x[\"protected\"] / (x[\"protected\"]+ x[\"not_protected\"]),axis=1)\n",
    "\n",
    "print(category_pivot)\n"
   ]
  },
  {
   "cell_type": "code",
   "execution_count": 144,
   "metadata": {},
   "outputs": [
    {
     "name": "stdout",
     "output_type": "stream",
     "text": [
      "  category  not_protected  protected  percent_protected\n",
      "1     Bird            413         75           0.153689\n",
      "3   Mammal            146         30           0.170455\n"
     ]
    }
   ],
   "source": [
    "#contingency table to prove if there is significant difference between Species Bird and Mammal\n",
    "\n",
    "contigency_dt = category_pivot[category_pivot[\"category\"].isin([\"Bird\",\"Mammal\"])]\n",
    "print(contigency_dt)"
   ]
  },
  {
   "cell_type": "code",
   "execution_count": 140,
   "metadata": {},
   "outputs": [
    {
     "name": "stdout",
     "output_type": "stream",
     "text": [
      "[[30, 146], [75, 413]]\n"
     ]
    }
   ],
   "source": [
    "#building a contigency Table to do an chi Square Test, Data is categorical\n",
    "\n",
    "conting_chi = [[30,146],[75,413]]\n",
    "print(conting_chi)"
   ]
  },
  {
   "cell_type": "code",
   "execution_count": 143,
   "metadata": {},
   "outputs": [
    {
     "data": {
      "text/plain": [
       "(0.1617014831654557,\n",
       " 0.6875948096661336,\n",
       " 1,\n",
       " array([[ 27.8313253, 148.1686747],\n",
       "        [ 77.1686747, 410.8313253]]))"
      ]
     },
     "execution_count": 143,
     "metadata": {},
     "output_type": "execute_result"
    }
   ],
   "source": [
    "from scipy.stats import chi2_contingency\n",
    "chi2_contingency(conting_chi)\n",
    "\n",
    "#looks like the p_value is not below 5%, so we cant reject the null-hypothesis. Difference isn't significant\n"
   ]
  },
  {
   "cell_type": "code",
   "execution_count": 146,
   "metadata": {},
   "outputs": [
    {
     "data": {
      "text/plain": [
       "(4.289183096203645,\n",
       " 0.03835559022969898,\n",
       " 1,\n",
       " array([[ 10.7480315,  67.2519685],\n",
       "        [ 24.2519685, 151.7480315]]))"
      ]
     },
     "execution_count": 146,
     "metadata": {},
     "output_type": "execute_result"
    }
   ],
   "source": [
    "#Chi Square Test for Mammal and Reptiles\n",
    "\n",
    "contingen_rap_mam = [[5,73],[30,146]]\n",
    "chi2_contingency(contingen_rap_mam)\n",
    "\n",
    "#looks like the p_value is below 5%, so we cant reject the null-hypothesis. Difference is significant"
   ]
  },
  {
   "cell_type": "code",
   "execution_count": 21,
   "metadata": {},
   "outputs": [
    {
     "name": "stdout",
     "output_type": "stream",
     "text": [
      "            scientific_name                            park_name  observations\n",
      "0        Vicia benghalensis  Great Smoky Mountains National Park            68\n",
      "1            Neovison vison  Great Smoky Mountains National Park            77\n",
      "2         Prunus subcordata               Yosemite National Park           138\n",
      "3      Abutilon theophrasti                  Bryce National Park            84\n",
      "4  Githopsis specularioides  Great Smoky Mountains National Park            85\n"
     ]
    }
   ],
   "source": [
    "import pandas as pd\n",
    "observations = pd.read_csv(\"A:\\Documents\\Programmierung\\Future Python\\Python Data analyst\\codecademy\\Species\\observations.csv\")\n",
    "print(observations.head())"
   ]
  },
  {
   "cell_type": "code",
   "execution_count": 73,
   "metadata": {},
   "outputs": [
    {
     "name": "stdout",
     "output_type": "stream",
     "text": [
      "False    5815\n",
      "True        9\n",
      "Name: is_sheep, dtype: int64\n",
      "            category              scientific_name  \\\n",
      "3             Mammal                   Ovis aries   \n",
      "1139  Vascular Plant             Rumex acetosella   \n",
      "2233  Vascular Plant           Festuca filiformis   \n",
      "3014          Mammal              Ovis canadensis   \n",
      "3758  Vascular Plant             Rumex acetosella   \n",
      "3761  Vascular Plant            Rumex paucifolius   \n",
      "4091  Vascular Plant                 Carex illota   \n",
      "4383  Vascular Plant  Potentilla ovina var. ovina   \n",
      "4446          Mammal      Ovis canadensis sierrae   \n",
      "\n",
      "                                           common_names conservation_status  is_sheep  \n",
      "3     Domestic Sheep, Mouflon, Red Sheep, Sheep (Feral)                 NaN      True  \n",
      "1139                        Sheep Sorrel, Sheep Sorrell                 NaN      True  \n",
      "2233                              Fineleaf Sheep Fescue                 NaN      True  \n",
      "3014                       Bighorn Sheep, Bighorn Sheep  Species of Concern      True  \n",
      "3758  Common Sheep Sorrel, Field Sorrel, Red Sorrel,...                 NaN      True  \n",
      "3761   Alpine Sheep Sorrel, Fewleaved Dock, Meadow Dock                 NaN      True  \n",
      "4091                       Sheep Sedge, Smallhead Sedge                 NaN      True  \n",
      "4383                                   Sheep Cinquefoil                 NaN      True  \n",
      "4446                        Sierra Nevada Bighorn Sheep          Endangered      True  \n"
     ]
    }
   ],
   "source": [
    "#Count the rows that contain \"sheep\" in common_names of DF species\n",
    "\n",
    "sheep_check = lambda row: True if \"Sheep\" in row[\"common_names\"] else False\n",
    "species[\"is_sheep\"] = species.apply(sheep_check, axis=1)\n",
    "\n",
    "#counts Trues and Falses\n",
    "sheep_counter = species[\"is_sheep\"].value_counts()\n",
    "\n",
    "\n",
    "pd.set_option(\"display.max_rows\",20)\n",
    "pd.set_option(\"display.max_columns\",20)\n",
    "pd.set_option(\"display.width\",100)\n",
    "\n",
    "print(sheep_counter)\n",
    "sheep_species = species[species[\"is_sheep\"]==True]\n",
    "\n",
    "print(sheep_species )\n",
    "\n"
   ]
  },
  {
   "cell_type": "code",
   "execution_count": 106,
   "metadata": {},
   "outputs": [
    {
     "name": "stdout",
     "output_type": "stream",
     "text": [
      "   category          scientific_name                                       common_names  \\\n",
      "0    Mammal               Ovis aries  Domestic Sheep, Mouflon, Red Sheep, Sheep (Feral)   \n",
      "1    Mammal               Ovis aries  Domestic Sheep, Mouflon, Red Sheep, Sheep (Feral)   \n",
      "2    Mammal               Ovis aries  Domestic Sheep, Mouflon, Red Sheep, Sheep (Feral)   \n",
      "3    Mammal               Ovis aries  Domestic Sheep, Mouflon, Red Sheep, Sheep (Feral)   \n",
      "4    Mammal          Ovis canadensis                       Bighorn Sheep, Bighorn Sheep   \n",
      "5    Mammal          Ovis canadensis                       Bighorn Sheep, Bighorn Sheep   \n",
      "6    Mammal          Ovis canadensis                       Bighorn Sheep, Bighorn Sheep   \n",
      "7    Mammal          Ovis canadensis                       Bighorn Sheep, Bighorn Sheep   \n",
      "8    Mammal  Ovis canadensis sierrae                        Sierra Nevada Bighorn Sheep   \n",
      "9    Mammal  Ovis canadensis sierrae                        Sierra Nevada Bighorn Sheep   \n",
      "10   Mammal  Ovis canadensis sierrae                        Sierra Nevada Bighorn Sheep   \n",
      "11   Mammal  Ovis canadensis sierrae                        Sierra Nevada Bighorn Sheep   \n",
      "\n",
      "   conservation_status  is_sheep                            park_name  observations  \n",
      "0                  NaN      True               Yosemite National Park           126  \n",
      "1                  NaN      True  Great Smoky Mountains National Park            76  \n",
      "2                  NaN      True                  Bryce National Park           119  \n",
      "3                  NaN      True            Yellowstone National Park           221  \n",
      "4   Species of Concern      True            Yellowstone National Park           219  \n",
      "5   Species of Concern      True                  Bryce National Park           109  \n",
      "6   Species of Concern      True               Yosemite National Park           117  \n",
      "7   Species of Concern      True  Great Smoky Mountains National Park            48  \n",
      "8           Endangered      True            Yellowstone National Park            67  \n",
      "9           Endangered      True               Yosemite National Park            39  \n",
      "10          Endangered      True                  Bryce National Park            22  \n",
      "11          Endangered      True  Great Smoky Mountains National Park            25  \n"
     ]
    }
   ],
   "source": [
    "sheep_species = species[(species[\"category\"]==\"Mammal\") & (species[\"is_sheep\"]==True)]\n",
    "# observations[\"scientific_name\"]=observations[\"scientific_name\"].astype(str)\n",
    "# sheep_species[\"scientific_name\"]= sheep_species[\"scientific_name\"].astype(str)\n",
    "\n",
    "\n",
    "\n",
    "\n",
    "sheep_observations = sheep_species.merge(observations)\n",
    "print(sheep_observations)"
   ]
  },
  {
   "cell_type": "code",
   "execution_count": 115,
   "metadata": {},
   "outputs": [
    {
     "name": "stdout",
     "output_type": "stream",
     "text": [
      "                             park_name  observations\n",
      "0                  Bryce National Park           250\n",
      "1  Great Smoky Mountains National Park           149\n",
      "2            Yellowstone National Park           507\n",
      "3               Yosemite National Park           282\n"
     ]
    }
   ],
   "source": [
    "obs_by_park = sheep_observations.groupby(\"park_name\")[\"observations\"].sum().reset_index()\n",
    "print(obs_by_park)\n",
    "\n"
   ]
  },
  {
   "cell_type": "code",
   "execution_count": 136,
   "metadata": {},
   "outputs": [
    {
     "name": "stdout",
     "output_type": "stream",
     "text": [
      "range(0, 4)\n"
     ]
    },
    {
     "data": {
      "image/png": "[encoded data removed]",
      "text/plain": [
       "<Figure size 1152x576 with 1 Axes>"
      ]
     },
     "metadata": {
      "needs_background": "light"
     },
     "output_type": "display_data"
    }
   ],
   "source": [
    "plt.figure(figsize=(16,8))\n",
    "ax = plt.subplot()\n",
    "y = obs_by_park[\"observations\"]\n",
    "x = obs_by_park[\"park_name\"]\n",
    "\n",
    "plt.bar(range(len(x)),y.values)\n",
    "ax.set_xticks(range(len(x)))\n",
    "ax.set_xticklabels(x.values)\n",
    "plt.ylabel(\"Number of Observations\")\n",
    "plt.title(\"Observations of Sheep per Week\")\n",
    "plt.show()"
   ]
  },
  {
   "cell_type": "code",
   "execution_count": null,
   "metadata": {},
   "outputs": [],
   "source": []
  },
  {
   "cell_type": "code",
   "execution_count": null,
   "metadata": {},
   "outputs": [],
   "source": []
  },
  {
   "cell_type": "code",
   "execution_count": null,
   "metadata": {},
   "outputs": [],
   "source": []
  },
  {
   "cell_type": "code",
   "execution_count": null,
   "metadata": {},
   "outputs": [],
   "source": []
  },
  {
   "cell_type": "code",
   "execution_count": null,
   "metadata": {},
   "outputs": [],
   "source": []
  },
  {
   "cell_type": "code",
   "execution_count": null,
   "metadata": {},
   "outputs": [],
   "source": []
  },
  {
   "cell_type": "code",
   "execution_count": null,
   "metadata": {},
   "outputs": [],
   "source": []
  },
  {
   "cell_type": "code",
   "execution_count": null,
   "metadata": {},
   "outputs": [],
   "source": []
  },
  {
   "cell_type": "code",
   "execution_count": null,
   "metadata": {},
   "outputs": [],
   "source": []
  },
  {
   "cell_type": "code",
   "execution_count": null,
   "metadata": {},
   "outputs": [],
   "source": []
  },
  {
   "cell_type": "code",
   "execution_count": null,
   "metadata": {},
   "outputs": [],
   "source": []
  },
  {
   "cell_type": "code",
   "execution_count": null,
   "metadata": {},
   "outputs": [],
   "source": []
  },
  {
   "cell_type": "code",
   "execution_count": null,
   "metadata": {},
   "outputs": [],
   "source": []
  },
  {
   "cell_type": "code",
   "execution_count": null,
   "metadata": {},
   "outputs": [],
   "source": []
  },
  {
   "cell_type": "code",
   "execution_count": 114,
   "metadata": {
    "scrolled": true
   },
   "outputs": [
    {
     "name": "stdout",
     "output_type": "stream",
     "text": [
      "                             park_name  observations\n",
      "0                  Bryce National Park           250\n",
      "1  Great Smoky Mountains National Park           149\n",
      "2            Yellowstone National Park           507\n",
      "3               Yosemite National Park           282\n"
     ]
    }
   ],
   "source": []
  }
 ],
 "metadata": {
  "kernelspec": {
   "display_name": "Python 3",
   "language": "python",
   "name": "python3"
  },
  "language_info": {
   "codemirror_mode": {
    "name": "ipython",
    "version": 3
   },
   "file_extension": ".py",
   "mimetype": "text/x-python",
   "name": "python",
   "nbconvert_exporter": "python",
   "pygments_lexer": "ipython3",
   "version": "3.8.3"
  }
 },
 "nbformat": 4,
 "nbformat_minor": 4
}
